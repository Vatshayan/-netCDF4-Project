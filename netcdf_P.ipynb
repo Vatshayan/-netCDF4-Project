{
  "nbformat": 4,
  "nbformat_minor": 0,
  "metadata": {
    "colab": {
      "name": "netcdf_P.ipynb",
      "provenance": []
    },
    "kernelspec": {
      "name": "python3",
      "display_name": "Python 3"
    }
  },
  "cells": [
    {
      "cell_type": "markdown",
      "metadata": {
        "id": "AvWNGoCS1QgK"
      },
      "source": [
        "**netCDF**\r\n",
        "\r\n",
        "Usually We have to install netCDF4 in Google Collab and Jupyter Notebook for working on it. "
      ]
    },
    {
      "cell_type": "code",
      "metadata": {
        "colab": {
          "base_uri": "https://localhost:8080/"
        },
        "id": "hBybEbhiRIjF",
        "outputId": "c3d5548e-ee6e-41e3-b8e6-75a8b6a8c08a"
      },
      "source": [
        "pip install netCDF4"
      ],
      "execution_count": 1,
      "outputs": [
        {
          "output_type": "stream",
          "text": [
            "Collecting netCDF4\n",
            "\u001b[?25l  Downloading https://files.pythonhosted.org/packages/1a/71/a321abeee439caf94850b4f68ecef68d2ad584a5a9566816c051654cff94/netCDF4-1.5.5.1-cp36-cp36m-manylinux2014_x86_64.whl (4.7MB)\n",
            "\u001b[K     |████████████████████████████████| 4.7MB 6.3MB/s \n",
            "\u001b[?25hCollecting cftime\n",
            "\u001b[?25l  Downloading https://files.pythonhosted.org/packages/66/60/bad8525d2c046eb2964911bc412a85ba240b31c7b43f0c19377233992c6c/cftime-1.3.0-cp36-cp36m-manylinux1_x86_64.whl (295kB)\n",
            "\u001b[K     |████████████████████████████████| 296kB 28.0MB/s \n",
            "\u001b[?25hRequirement already satisfied: numpy>=1.9 in /usr/local/lib/python3.6/dist-packages (from netCDF4) (1.19.4)\n",
            "Installing collected packages: cftime, netCDF4\n",
            "Successfully installed cftime-1.3.0 netCDF4-1.5.5.1\n"
          ],
          "name": "stdout"
        }
      ]
    },
    {
      "cell_type": "code",
      "metadata": {
        "id": "U5241fADSF0Z"
      },
      "source": [
        "import warnings\r\n",
        "warnings.filterwarnings('ignore')"
      ],
      "execution_count": 2,
      "outputs": []
    },
    {
      "cell_type": "code",
      "metadata": {
        "id": "Ne9vyTrjSOox"
      },
      "source": [
        "import datetime\r\n",
        "import numpy as np\r\n",
        "import netCDF4 as nc4"
      ],
      "execution_count": 3,
      "outputs": []
    },
    {
      "cell_type": "code",
      "metadata": {
        "id": "4whm7GnrWHto"
      },
      "source": [
        "ncFileName = 'sample_netcdf.nc4'\r\n",
        "modeType   = 'w'\r\n",
        "fileFormat = 'NETCDF4'\r\n",
        "ncfid = nc4.Dataset(ncFileName, mode=modeType, format=fileFormat)"
      ],
      "execution_count": 4,
      "outputs": []
    },
    {
      "cell_type": "markdown",
      "metadata": {
        "id": "W_622IqkWxLK"
      },
      "source": [
        "This is just a Demo, If you need any help regarding your work or Project. Please **Email me vatshayan007@gmail.com **"
      ]
    },
    {
      "cell_type": "code",
      "metadata": {
        "id": "mcpE27gOYDUB"
      },
      "source": [
        ""
      ],
      "execution_count": null,
      "outputs": []
    }
  ]
}